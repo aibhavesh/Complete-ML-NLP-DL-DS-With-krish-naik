{
 "cells": [
  {
   "cell_type": "markdown",
   "metadata": {},
   "source": [
    "# set"
   ]
  },
  {
   "cell_type": "markdown",
   "metadata": {},
   "source": [
    "set are a bulit-in data type in python used to store colections of unique items . they are unordered, meaning that the elements do not follow a specific oreder, and they do not allow duplicate elements . Sets are usesful for membership tests , eleminating duplicate entried and performing mathematical set opetaions like union , intersection differnce and symmetric differnce "
   ]
  },
  {
   "cell_type": "code",
   "execution_count": 1,
   "metadata": {},
   "outputs": [
    {
     "name": "stdout",
     "output_type": "stream",
     "text": [
      "{1, 2, 3, 4, 5}\n",
      "<class 'set'>\n"
     ]
    }
   ],
   "source": [
    "# declartion \n",
    "s1={1,2,3,4,5}\n",
    "print(s1)\n",
    "print(type(s1))"
   ]
  },
  {
   "cell_type": "code",
   "execution_count": 4,
   "metadata": {},
   "outputs": [
    {
     "name": "stdout",
     "output_type": "stream",
     "text": [
      "{1, 2, 3, 4, 5, 7}\n"
     ]
    }
   ],
   "source": [
    "#we can add elements in list\n",
    "#using .add it always in last and it takes always a unique value repeated not allowed\n",
    "\n",
    "s1.add(7)\n",
    "s1.add(5)\n",
    "print(s1)"
   ]
  },
  {
   "cell_type": "code",
   "execution_count": 11,
   "metadata": {},
   "outputs": [
    {
     "name": "stdout",
     "output_type": "stream",
     "text": [
      "{1, 2, 3, 4, 5, 7}\n",
      "{1, 2, 4, 5, 7}\n"
     ]
    },
    {
     "ename": "KeyError",
     "evalue": "3",
     "output_type": "error",
     "traceback": [
      "\u001b[1;31m---------------------------------------------------------------------------\u001b[0m",
      "\u001b[1;31mKeyError\u001b[0m                                  Traceback (most recent call last)",
      "Cell \u001b[1;32mIn[11], line 6\u001b[0m\n\u001b[0;32m      4\u001b[0m s1\u001b[38;5;241m.\u001b[39mremove(\u001b[38;5;241m3\u001b[39m)\n\u001b[0;32m      5\u001b[0m \u001b[38;5;28mprint\u001b[39m(s1)\n\u001b[1;32m----> 6\u001b[0m \u001b[43ms1\u001b[49m\u001b[38;5;241;43m.\u001b[39;49m\u001b[43mremove\u001b[49m\u001b[43m(\u001b[49m\u001b[38;5;241;43m3\u001b[39;49m\u001b[43m)\u001b[49m\n",
      "\u001b[1;31mKeyError\u001b[0m: 3"
     ]
    }
   ],
   "source": [
    "#we can delete the elements in set by .remove() it shows error when the element is not there \n",
    "s1.add(3)\n",
    "print(s1)\n",
    "s1.remove(3)\n",
    "print(s1)\n",
    "s1.remove(3)"
   ]
  },
  {
   "cell_type": "code",
   "execution_count": 15,
   "metadata": {},
   "outputs": [
    {
     "name": "stdout",
     "output_type": "stream",
     "text": [
      "{1, 2, 4, 7}\n"
     ]
    }
   ],
   "source": [
    "# we use .discard function of removing the element in the set without any error if the element s not there and alreddy deleted\n",
    "\n",
    "s1.discard(5)\n",
    "print(s1)\n",
    "s1.discard(5)# no error\n"
   ]
  },
  {
   "cell_type": "code",
   "execution_count": null,
   "metadata": {},
   "outputs": [
    {
     "name": "stdout",
     "output_type": "stream",
     "text": [
      "1\n",
      "{2, 3, 4, 5, 6, 7, 8, 9}\n"
     ]
    }
   ],
   "source": [
    "# pop for removing the first  element\n",
    "s2={1,2,3,4,5,6,7,8,9}\n",
    "print(s2.pop())\n",
    "print(s2)"
   ]
  },
  {
   "cell_type": "code",
   "execution_count": 22,
   "metadata": {},
   "outputs": [
    {
     "name": "stdout",
     "output_type": "stream",
     "text": [
      "{1, 2, 4, 7}\n"
     ]
    }
   ],
   "source": [
    "# copy of set\n",
    "s3=s1.copy()\n",
    "print(s3)\n",
    "\n"
   ]
  },
  {
   "cell_type": "code",
   "execution_count": 24,
   "metadata": {},
   "outputs": [
    {
     "name": "stdout",
     "output_type": "stream",
     "text": [
      "{1, 2, 3, 4, 5}\n",
      "{1, 2, 4, 5, 6, 8}\n"
     ]
    }
   ],
   "source": [
    "# set operations of two set\n",
    "\n",
    "#1. we can remove the repeated element of the tuple and the list using set function\n",
    "t1=(1,2,4,5,3,4,3,2,4,2,1,3)\n",
    "l1=[1,4,6,8,2,4,6,4,2,5,2,2]\n",
    "\n",
    "print(set(t1))\n",
    "print(set(l1))"
   ]
  },
  {
   "cell_type": "code",
   "execution_count": 26,
   "metadata": {},
   "outputs": [
    {
     "name": "stdout",
     "output_type": "stream",
     "text": [
      "set()\n"
     ]
    }
   ],
   "source": [
    "# we can clear the set using .set\n",
    "\n",
    "s4={44,55,6,2,33,5,3,55,2,3533,32}\n",
    "s4.clear()\n",
    "print(s4)\n"
   ]
  },
  {
   "cell_type": "code",
   "execution_count": null,
   "metadata": {},
   "outputs": [
    {
     "name": "stdout",
     "output_type": "stream",
     "text": [
      "{0, 1, 2, 3, 4, 5, 6, 7, 8, 9}\n",
      "{2, 4, 5, 7, 9}\n",
      "{0, 1, 2, 3, 4, 5, 6, 7, 8, 9}\n",
      "{2, 4, 5, 7, 9}\n",
      "{0, 1, 2, 3, 4, 5, 6, 7, 8, 9}\n",
      "{2, 4, 5, 7, 9}\n",
      "set()\n"
     ]
    }
   ],
   "source": [
    "# set operation on two set \n",
    "set1={1,2,3,4,5,6,7,8,9,0}\n",
    "print(set1)\n",
    "\n",
    "set2={4,5,7,2,9}\n",
    "print(set2)\n",
    "\n",
    "\n",
    "\n",
    "print(set1.union(set2)) # 1.union() it is used to create a  unionof two set\n",
    "\n",
    "print(set1.intersection(set2))#2. for intersection between two sets\n",
    "print(set1)\n",
    "\n",
    "(set1.intersection_update(set2)) # it store the value of intersection in the set1\n",
    "print(set1)\n",
    "\n"
   ]
  },
  {
   "cell_type": "code",
   "execution_count": 40,
   "metadata": {},
   "outputs": [
    {
     "name": "stdout",
     "output_type": "stream",
     "text": [
      "{0, 1, 2, 3, 4, 5, 6, 7, 8, 9}\n",
      "{2, 4, 5, 7, 9, 10}\n",
      "{0, 1, 3, 6, 8}\n",
      "{10}\n"
     ]
    }
   ],
   "source": [
    "set1={1,2,3,4,5,6,7,8,9,0}\n",
    "print(set1)\n",
    "\n",
    "set2={4,5,7,2,9,10}\n",
    "print(set2)\n",
    "\n",
    "## difference\n",
    "print(set1.difference(set2))# it prints the non common value of sets\n",
    "print(set2.difference(set1))"
   ]
  },
  {
   "cell_type": "code",
   "execution_count": 41,
   "metadata": {},
   "outputs": [
    {
     "name": "stdout",
     "output_type": "stream",
     "text": [
      "{0, 1, 3, 6, 8, 10}\n"
     ]
    }
   ],
   "source": [
    "set1={1,2,3,4,5,6,7,8,9,0}\n",
    "set2={4,5,7,2,9,10}\n",
    "\n",
    "# symmetric differnce it prints the unique value of both the sets \n",
    "set3=set1.symmetric_difference(set2)\n",
    "print(set3)"
   ]
  },
  {
   "cell_type": "code",
   "execution_count": 45,
   "metadata": {},
   "outputs": [
    {
     "name": "stdout",
     "output_type": "stream",
     "text": [
      "False\n",
      "True\n",
      "True\n",
      "False\n",
      "False\n",
      "False\n"
     ]
    }
   ],
   "source": [
    "# is subset method that show the elemts in set1 is also present in set2 \n",
    "#it gives answer in boolean values true or false\n",
    "\n",
    "set1={1,2,3,4,5,6,7,8,9,0}\n",
    "set2={4,5,7,2,9}\n",
    "\n",
    "print(set1.issubset(set2))\n",
    "print(set2.issubset(set1))\n",
    "\n",
    "# superset of then\n",
    "print(set1.issuperset(set2))\n",
    "print(set2.issuperset(set1))\n",
    "\n",
    "# disjoint \n",
    "print(set2.isdisjoint(set1))\n",
    "print(set1.isdisjoint(set2))\n",
    "\n",
    "\n",
    "\n"
   ]
  },
  {
   "cell_type": "code",
   "execution_count": 50,
   "metadata": {},
   "outputs": [
    {
     "name": "stdout",
     "output_type": "stream",
     "text": [
      "{0, 1, 2, 3, 4, 5, 6, 7, 8, 9}\n",
      "True\n"
     ]
    }
   ],
   "source": [
    "# we can find the member in set\n",
    "\n",
    "set4=set1.union(set2)\n",
    "print(set4)\n",
    "print(3 in set4)"
   ]
  },
  {
   "cell_type": "code",
   "execution_count": 54,
   "metadata": {},
   "outputs": [
    {
     "name": "stdout",
     "output_type": "stream",
     "text": [
      "['Python', 'programming', 'can', 'be', 'both', 'fun', 'and', 'challenging.']\n",
      "{'programming', 'Python', 'be', 'both', 'can', 'challenging.', 'fun', 'and'}\n",
      "8\n"
     ]
    }
   ],
   "source": [
    "## counting unique word in the sentence\n",
    "\n",
    "word=\"Python programming can be both fun and challenging.\"\n",
    "\n",
    "r1=word.split()\n",
    "\n",
    "print(r1)\n",
    "\n",
    "u1=set(r1)\n",
    "print(u1)\n",
    "print(len(u1))"
   ]
  },
  {
   "cell_type": "code",
   "execution_count": null,
   "metadata": {},
   "outputs": [],
   "source": []
  }
 ],
 "metadata": {
  "kernelspec": {
   "display_name": "Python 3",
   "language": "python",
   "name": "python3"
  },
  "language_info": {
   "codemirror_mode": {
    "name": "ipython",
    "version": 3
   },
   "file_extension": ".py",
   "mimetype": "text/x-python",
   "name": "python",
   "nbconvert_exporter": "python",
   "pygments_lexer": "ipython3",
   "version": "3.13.1"
  }
 },
 "nbformat": 4,
 "nbformat_minor": 2
}
