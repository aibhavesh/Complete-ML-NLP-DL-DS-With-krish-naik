{
 "cells": [
  {
   "cell_type": "markdown",
   "metadata": {},
   "source": [
    "# tuple\n",
    "it is a ordered collection of data like list \n",
    "it is a unmutable form of list it also store data in continous memory allocation"
   ]
  },
  {
   "cell_type": "code",
   "execution_count": 2,
   "metadata": {},
   "outputs": [
    {
     "name": "stdout",
     "output_type": "stream",
     "text": [
      "<class 'tuple'>\n"
     ]
    }
   ],
   "source": [
    "t1=() #empty tuple \n",
    "print(type(t1))"
   ]
  },
  {
   "cell_type": "code",
   "execution_count": 5,
   "metadata": {},
   "outputs": [
    {
     "name": "stdout",
     "output_type": "stream",
     "text": [
      "<class 'list'>\n",
      "<class 'tuple'>\n"
     ]
    }
   ],
   "source": [
    "# alist can be created as tuple and a tuple can be list in program\n",
    "t1=list()\n",
    "print(type(t1))\n",
    "t2=()\n",
    "print(type(t2))"
   ]
  },
  {
   "cell_type": "code",
   "execution_count": 7,
   "metadata": {},
   "outputs": [
    {
     "name": "stdout",
     "output_type": "stream",
     "text": [
      "(1, 2, 3, 4, 5, 6, 7)\n",
      "<class 'tuple'>\n"
     ]
    }
   ],
   "source": [
    "# a list in tuple\n",
    "\n",
    "num = tuple([1,2,3,4,5,6,7])\n",
    "print(num)\n",
    "print(type(num)) \n"
   ]
  },
  {
   "cell_type": "code",
   "execution_count": 8,
   "metadata": {},
   "outputs": [
    {
     "name": "stdout",
     "output_type": "stream",
     "text": [
      "('bhavesh', 1, 1.5, True)\n"
     ]
    }
   ],
   "source": [
    "#mixed tuple\n",
    "mt=(\"bhavesh\",1,1.5,True)\n",
    "print(mt)\n"
   ]
  },
  {
   "cell_type": "code",
   "execution_count": 5,
   "metadata": {},
   "outputs": [
    {
     "name": "stdout",
     "output_type": "stream",
     "text": [
      "(1, 2, 3, 4, 5, 6)\n",
      "<class 'tuple'>\n",
      "2\n",
      "4\n",
      "5\n",
      "6\n",
      "(1, 2, 3, 4, 5, 6)\n",
      "(2, 4, 6)\n",
      "(1, 2, 3, 4)\n",
      "(6, 5, 4, 3, 2, 1)\n"
     ]
    }
   ],
   "source": [
    "#accessing the tuple element\n",
    "n=(1,2,3,4,5,6)\n",
    "print(n)\n",
    "print(type(n))\n",
    "print(n[1])\n",
    "print(n[3])\n",
    "print(n[-2])\n",
    "print(n[-1])\n",
    "print(n[0:])\n",
    "print(n[1::2])\n",
    "print(n[:4])\n",
    "print(n[::-1])\n"
   ]
  },
  {
   "cell_type": "code",
   "execution_count": 5,
   "metadata": {},
   "outputs": [
    {
     "name": "stdout",
     "output_type": "stream",
     "text": [
      "(1, 2, 3, 4, 5, 6, 'bhavesh', 1, 1.5, True)\n"
     ]
    }
   ],
   "source": [
    "#tuple concatination\n",
    "mt = (\"bhavesh\",1,1.5,True)\n",
    "n=(1,2,3,4,5,6)\n",
    "concatination = n + mt\n",
    "print(concatination)"
   ]
  },
  {
   "cell_type": "code",
   "execution_count": 8,
   "metadata": {},
   "outputs": [
    {
     "name": "stdout",
     "output_type": "stream",
     "text": [
      "('bhavesh', 1, 1.5, True, 'bhavesh', 1, 1.5, True, 'bhavesh', 1, 1.5, True)\n",
      "(1, 2, 3, 4, 5, 6, 1, 2, 3, 4, 5, 6, 1, 2, 3, 4, 5, 6)\n",
      "(1, 2, 3, 4, 5, 6, 'bhavesh', 1, 1.5, True)\n"
     ]
    }
   ],
   "source": [
    "#tuple multiplication\n",
    "mt = (\"bhavesh\",1,1.5,True)\n",
    "n=(1,2,3,4,5,6)\n",
    "print(mt*3)\n",
    "print(n*3)\n",
    "print(concatination)"
   ]
  },
  {
   "cell_type": "code",
   "execution_count": 11,
   "metadata": {},
   "outputs": [
    {
     "name": "stdout",
     "output_type": "stream",
     "text": [
      "2\n"
     ]
    },
    {
     "ename": "TypeError",
     "evalue": "'tuple' object does not support item assignment",
     "output_type": "error",
     "traceback": [
      "\u001b[1;31m---------------------------------------------------------------------------\u001b[0m",
      "\u001b[1;31mTypeError\u001b[0m                                 Traceback (most recent call last)",
      "Cell \u001b[1;32mIn[11], line 5\u001b[0m\n\u001b[0;32m      2\u001b[0m t1\u001b[38;5;241m=\u001b[39m(\u001b[38;5;241m1\u001b[39m,\u001b[38;5;241m2\u001b[39m,\u001b[38;5;241m3\u001b[39m,\u001b[38;5;241m45\u001b[39m,\u001b[38;5;241m6\u001b[39m,\u001b[38;5;241m7\u001b[39m)\n\u001b[0;32m      3\u001b[0m \u001b[38;5;28mprint\u001b[39m(t1[\u001b[38;5;241m1\u001b[39m])\n\u001b[1;32m----> 5\u001b[0m \u001b[43mt1\u001b[49m\u001b[43m[\u001b[49m\u001b[38;5;241;43m1\u001b[39;49m\u001b[43m]\u001b[49m\u001b[38;5;241m=\u001b[39m\u001b[38;5;241m5\u001b[39m\u001b[38;5;66;03m# we cannot assign the tuple value\u001b[39;00m\n",
      "\u001b[1;31mTypeError\u001b[0m: 'tuple' object does not support item assignment"
     ]
    }
   ],
   "source": [
    "## tuple immutable nature \n",
    "t1=(1,2,3,45,6,7)\n",
    "print(t1[1])\n",
    "\n",
    "t1[1]=5# we cannot assign the tuple value\n"
   ]
  },
  {
   "cell_type": "code",
   "execution_count": null,
   "metadata": {},
   "outputs": [
    {
     "name": "stdout",
     "output_type": "stream",
     "text": [
      "(1, 'bhavesh', 5.5, 1, 5, 6, 7, 43, 42, 23, 11, 1, 1)\n",
      "1\n",
      "['bhavesh', 5.5, 1, 5, 6, 7, 43, 42, 23, 11, 1]\n",
      "1\n"
     ]
    }
   ],
   "source": [
    "#packing and unpacking \n",
    "\n",
    "#if the values are individually inserted then its by default get in tupple\n",
    "# packing \n",
    "tup=1,\"bhavesh\",5.5,1,5,6,7,43,42,23,11,1,1\n",
    "print(tup)\n",
    "#unpacking using *\n",
    "(a,*b,c)=tup # here the a consist of first value b consist of all intermediate values and c consists of last value\n",
    "print(a)\n",
    "print(b)\n",
    "print(c)"
   ]
  },
  {
   "cell_type": "code",
   "execution_count": 20,
   "metadata": {},
   "outputs": [
    {
     "name": "stdout",
     "output_type": "stream",
     "text": [
      "4\n",
      "0\n",
      "8\n"
     ]
    }
   ],
   "source": [
    "#tuple method \n",
    "#count\n",
    "print(tup.count(1))# use count for particular number\n",
    "print(tup.count(2))\n",
    "\n",
    "#index for finding the index of the value\n",
    "\n",
    "print(tup.index(42))"
   ]
  },
  {
   "cell_type": "code",
   "execution_count": 24,
   "metadata": {},
   "outputs": [
    {
     "name": "stdout",
     "output_type": "stream",
     "text": [
      "[1, 2, 3]\n",
      "[8, 9, 0]\n",
      "(4, 5, 6)\n",
      "2\n",
      "1\n",
      "3\n",
      "4\n",
      "5\n",
      "6\n"
     ]
    }
   ],
   "source": [
    "# nested tuple and list\n",
    "\n",
    "tupl=([1,2,3],(4,5,6),[8,9,0])\n",
    "print(tupl[0])\n",
    "print(tupl[2])\n",
    "print(tupl[1])\n",
    "print(tupl[0][1])\n",
    "print(tupl[0][0])\n",
    "print(tupl[0][2])\n",
    "print(tupl[1][0])\n",
    "print(tupl[1][1])\n",
    "print(tupl[1][2])\n",
    "\n"
   ]
  },
  {
   "cell_type": "code",
   "execution_count": 25,
   "metadata": {},
   "outputs": [
    {
     "name": "stdout",
     "output_type": "stream",
     "text": [
      "1 2 3 4 5 6 8 9 0 "
     ]
    }
   ],
   "source": [
    "## iterrating over nested tuple\n",
    "\n",
    "nested_tuple=([1,2,3],(4,5,6),[8,9,0])\n",
    "for sub_tuple in nested_tuple:\n",
    "    for i in sub_tuple:\n",
    "        print(i,end=\" \")"
   ]
  }
 ],
 "metadata": {
  "kernelspec": {
   "display_name": "Python 3",
   "language": "python",
   "name": "python3"
  },
  "language_info": {
   "codemirror_mode": {
    "name": "ipython",
    "version": 3
   },
   "file_extension": ".py",
   "mimetype": "text/x-python",
   "name": "python",
   "nbconvert_exporter": "python",
   "pygments_lexer": "ipython3",
   "version": "3.13.1"
  }
 },
 "nbformat": 4,
 "nbformat_minor": 2
}
