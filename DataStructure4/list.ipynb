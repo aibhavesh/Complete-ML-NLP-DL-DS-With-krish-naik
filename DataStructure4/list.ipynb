{
 "cells": [
  {
   "cell_type": "markdown",
   "metadata": {},
   "source": [
    "# list is data type\n"
   ]
  },
  {
   "cell_type": "code",
   "execution_count": 3,
   "metadata": {},
   "outputs": [
    {
     "name": "stdout",
     "output_type": "stream",
     "text": [
      "<class 'list'>\n"
     ]
    }
   ],
   "source": [
    "#declartaion of list\n",
    "l = []\n",
    "print(type(l))"
   ]
  },
  {
   "cell_type": "code",
   "execution_count": 5,
   "metadata": {},
   "outputs": [
    {
     "name": "stdout",
     "output_type": "stream",
     "text": [
      "[1, 2, 3, 4, 5]\n",
      "[1, 2, 3, 4, 'bhavesh', 'anshika', 'aanchal', 1.5, 'true']\n"
     ]
    }
   ],
   "source": [
    "l =[1,2,3,4,5]\n",
    "print(l)\n",
    "mixed_list=[1,2,3,4,\"bhavesh\",\"anshika\",\"aanchal\",1.5,\"true\"]\n",
    "print(mixed_list)\n",
    "\n"
   ]
  },
  {
   "cell_type": "code",
   "execution_count": null,
   "metadata": {},
   "outputs": [
    {
     "name": "stdout",
     "output_type": "stream",
     "text": [
      "1\n",
      "2\n",
      "2\n",
      "4\n",
      "bhavesh\n",
      "anshika\n",
      "true\n",
      "1.5\n"
     ]
    }
   ],
   "source": [
    "#now selecting the element from the list\n",
    "#           0 1 2 3    4         5         6       7     8\n",
    "mixed_list=[1,2,3,4,\"bhavesh\",\"anshika\",\"aanchal\",1.5,\"true\"]\n",
    "print(l[0])\n",
    "print(l[1])\n",
    "print(mixed_list[1])\n",
    "print(mixed_list[3])\n",
    "print(mixed_list[4])\n",
    "print(mixed_list[5])\n",
    "print(mixed_list[-1])\n",
    "print(mixed_list[-2])\n"
   ]
  },
  {
   "cell_type": "code",
   "execution_count": null,
   "metadata": {},
   "outputs": [
    {
     "name": "stdout",
     "output_type": "stream",
     "text": [
      "[2, 3, 4, 'bhavesh', 'anshika', 'aanchal', 1.5, 'true']\n",
      "[2, 3, 4, 'bhavesh']\n",
      "[2, 3, 4, 'bhavesh', 'anshika', 'aanchal']\n",
      "[2, 3, 4, 'bhavesh', 'anshika', 'aanchal', 1.5]\n",
      "[2, 3, 4, 'bhavesh', 'anshika', 'aanchal']\n"
     ]
    }
   ],
   "source": [
    "#slice operator in list\n",
    "# here the last indexing is not print it list > smaller then this\n",
    "#       mixed_list[1:5]  1 to 4, 5 i not included\n",
    "mixed_list=[1,2,3,4,\"bhavesh\",\"anshika\",\"aanchal\",1.5,\"true\"]\n",
    "print(mixed_list[1:])\n",
    "print(mixed_list[1:5])\n",
    "print(mixed_list[1:7])\n",
    "print(mixed_list[1:-1])\n",
    "print(mixed_list[1:-2])"
   ]
  },
  {
   "cell_type": "code",
   "execution_count": null,
   "metadata": {},
   "outputs": [
    {
     "name": "stdout",
     "output_type": "stream",
     "text": [
      "[1, 'water', 3, 4, 'bhavesh', 'anshika', 'aanchal', 1.5, 'true']\n",
      "[1, 'w', 'a', 't', 'e', 'r', 'm', 'e', 'l', 'o', 'n']\n"
     ]
    }
   ],
   "source": [
    "mixed_list=[1,2,3,4,\"bhavesh\",\"anshika\",\"aanchal\",1.5,\"true\"]\n",
    "mixed_list[1]=\"water\"\n",
    "print(mixed_list)\n",
    "\n",
    "\n",
    "mixed_list[1:]=\"watermelon\"# its split it can character by character\n",
    "print(mixed_list)\n"
   ]
  },
  {
   "cell_type": "markdown",
   "metadata": {},
   "source": [
    "# list methods"
   ]
  },
  {
   "cell_type": "code",
   "execution_count": null,
   "metadata": {},
   "outputs": [
    {
     "name": "stdout",
     "output_type": "stream",
     "text": [
      "[1, 2, 3, 4, 'bhavesh', 'anshika', 'aanchal', 1.5, 'true', 'banana']\n",
      "[1, 2, 'hariom', 3, 4, 'bhavesh', 'anshika', 'aanchal', 1.5, 'true']\n",
      "[1, 2, 'hariom', 3, 4, 'anshika', 'aanchal', 1.5, 'true']\n"
     ]
    }
   ],
   "source": [
    "# list method \n",
    "#1. append insert at last\n",
    "mixed_list=[1,2,3,4,\"bhavesh\",\"anshika\",\"aanchal\",1.5,\"true\"]\n",
    "\n",
    "mixed_list.append(\"banana\")\n",
    "print(mixed_list)\n",
    "\n",
    "#2. list.insert(indexvalue,value)   used for particlura index\n",
    "\n",
    "mixed_list=[1,2,3,4,\"bhavesh\",\"anshika\",\"aanchal\",1.5,\"true\"]\n",
    "mixed_list.insert(2,\"hariom\")\n",
    "print(mixed_list)   \n",
    "\n",
    "#3. .remove(\"value\")  it remove the first occurence of thet element\n",
    "mixed_list.remove(\"bhavesh\")\n",
    "print(mixed_list)\n",
    "\n"
   ]
  },
  {
   "cell_type": "code",
   "execution_count": 32,
   "metadata": {},
   "outputs": [
    {
     "name": "stdout",
     "output_type": "stream",
     "text": [
      "['apple', 'banana', 'cherry', 'guava']\n",
      "['banana', 'cherry', 'guava']\n",
      "['mango', 'banana', 'cherry', 'guava', 'mango', 'mango']\n",
      "['banana', 'cherry', 'guava', 'mango', 'mango']\n",
      "['banana', 'cherry', 'guava', 'mango', 'mango']\n",
      "['banana', 'cherry', 'guava', 'mango', 'mango', 'Watermelon']\n",
      "['Watermelon', 'banana', 'cherry', 'guava', 'mango', 'mango']\n",
      "2\n",
      "['mango', 'mango', 'guava', 'cherry', 'banana', 'Watermelon']\n",
      "[]\n",
      "[1, 2, 3, 4, 5]\n"
     ]
    }
   ],
   "source": [
    "#4.pop for last element remove\n",
    "fruit=[\"apple\",\"banana\",\"cherry\",\"guava\",\"watermelon\"]\n",
    "fruit.pop()\n",
    "print(fruit)\n",
    "\n",
    "#5.remove   remove the first occurence of the value\n",
    "fruit.remove(\"apple\")\n",
    "print(fruit)\n",
    "fruit.append(\"mango\")\n",
    "fruit.append(\"mango\")\n",
    "fruit.insert(0,\"mango\")\n",
    "print(fruit)\n",
    "fruit.remove(\"mango\")\n",
    "print(fruit)\n",
    "\n",
    "#6.SORT ACCORING TO ASCII VALUE  in asscending order deafult\n",
    "fruit.sort()\n",
    "print(fruit)\n",
    "fruit.append(\"Watermelon\")\n",
    "print(fruit)\n",
    "fruit.sort()\n",
    "print(fruit)\n",
    " \n",
    "#7.count  no of element\n",
    "a=fruit.count(\"mango\")\n",
    "print(a)\n",
    "\n",
    "\n",
    "#8.reverse  it will reverse the order \n",
    "fruit.reverse()\n",
    "print(fruit)\n",
    "\n",
    "#9.clear empty listfruit\n",
    "fruit.clear()\n",
    "\n",
    "print(fruit)\n",
    "\n",
    "\n",
    "l2=[1,2,3,4,5]\n",
    "l3=l2.copy()\n",
    "print(l2)\n"
   ]
  },
  {
   "cell_type": "markdown",
   "metadata": {},
   "source": [
    "# list slicing"
   ]
  },
  {
   "cell_type": "code",
   "execution_count": 42,
   "metadata": {},
   "outputs": [
    {
     "name": "stdout",
     "output_type": "stream",
     "text": [
      "[2, 3, 4, 5, 6, 7, 8, 9, 10]\n",
      "[3, 4, 5]\n",
      "[1, 2, 3, 4, 5, 6, 7, 8, 9, 10]\n",
      "[6, 7, 8, 9, 10]\n",
      "[1, 3, 5, 7, 9]\n",
      "[2, 3, 4, 5, 6, 7, 8, 9, 10]\n",
      "[1, 4, 7, 10]\n",
      "[10, 9, 8, 7, 6, 5, 4, 3, 2, 1]\n",
      "[10, 8, 6, 4, 2]\n"
     ]
    }
   ],
   "source": [
    "list1=[1,2,3,4,5,6,7,8,9,10]\n",
    "print(list1[1:]) # index is there in slicing it will print from 1 index to last\n",
    "print(list1[2:5]) #inex from 2 to 4 not incluede the 5\n",
    "print(list1[:]) #full list\n",
    "print(list1[5:])# from 5 to lAST\n",
    "print(list1[::2])#it will jump to 2 steps from starting\n",
    "print(list1[1::])#by deafult 1 jump normal\n",
    "print(list1[::3])# it will jump to 3\n",
    "print(list1[::-1])#it will print the reverse list with 1 jump\n",
    "print(list1[::-2]) #it will jump upto 2 from last"
   ]
  },
  {
   "cell_type": "code",
   "execution_count": 48,
   "metadata": {},
   "outputs": [
    {
     "name": "stdout",
     "output_type": "stream",
     "text": [
      "[1]\n",
      "[1, 2, 3, 4, 5]\n"
     ]
    }
   ],
   "source": [
    "print(list1[:1:5])\n",
    "print(list1[0:5:])"
   ]
  },
  {
   "cell_type": "markdown",
   "metadata": {},
   "source": [
    "# loops in list"
   ]
  },
  {
   "cell_type": "code",
   "execution_count": 50,
   "metadata": {},
   "outputs": [
    {
     "name": "stdout",
     "output_type": "stream",
     "text": [
      "1\n",
      "2\n",
      "3\n",
      "4\n",
      "5\n",
      "6\n",
      "7\n",
      "8\n",
      "9\n",
      "10\n"
     ]
    }
   ],
   "source": [
    "l3=[1,2,3,4,5,6,7,8,9,10]\n",
    "for i in l3:\n",
    "    print(i)\n"
   ]
  },
  {
   "cell_type": "markdown",
   "metadata": {},
   "source": [
    "# enumurate  \n",
    "it wil generate the index number from 0 to you list lenghth"
   ]
  },
  {
   "cell_type": "code",
   "execution_count": 53,
   "metadata": {},
   "outputs": [
    {
     "name": "stdout",
     "output_type": "stream",
     "text": [
      "0 1\n",
      "1 2\n",
      "2 3\n",
      "3 4\n",
      "4 5\n",
      "5 6\n",
      "6 7\n",
      "7 8\n",
      "8 9\n",
      "9 10\n"
     ]
    }
   ],
   "source": [
    "for index,i in enumerate(l3):\n",
    "    print(index,i)"
   ]
  },
  {
   "cell_type": "markdown",
   "metadata": {},
   "source": [
    "# list comprehension\n",
    "it is the method that perfoms the opertaion and itterartion in loop itself with the syntax \n",
    "[opertaion itteration_method (for , while and other )]\n",
    "\n",
    "syntax\n",
    "\n",
    "1. basic :  [expression for item in iterbale]\n",
    "     print([x**2 for x in range(10 )])\n",
    "\n",
    "2. with conditional logic   [expression for item in iterable if condtion]\n",
    "   print([x**2 for x in range(10) if(x%2==0)])\n",
    "\n",
    "3. nested list comprehension  [expression for i in iterbale for j in iterbale]\n",
    "   l4=[1,2,3,4,5]\n",
    "l5=['a','b','c','d','e']\n",
    "\n",
    "lst2=[[i,j] for i in l4 for j in l5]\n",
    "print(lst2)\n",
    "\n",
    "4.list comprehension using in built function \n",
    "     \n",
    "\n",
    "  \n",
    "  "
   ]
  },
  {
   "cell_type": "code",
   "execution_count": 70,
   "metadata": {},
   "outputs": [
    {
     "name": "stdout",
     "output_type": "stream",
     "text": [
      "[0, 1, 4, 9, 16, 25, 36, 49, 64, 81]\n",
      "[0, 1, 4, 9, 16, 25, 36, 49, 64, 81]\n",
      "[0, 1, 4, 9, 16, 25, 36, 49, 64, 81]\n",
      "[0, 4, 16, 36, 64]\n",
      "[[1, 'a'], [1, 'b'], [1, 'c'], [1, 'd'], [1, 'e'], [2, 'a'], [2, 'b'], [2, 'c'], [2, 'd'], [2, 'e'], [3, 'a'], [3, 'b'], [3, 'c'], [3, 'd'], [3, 'e'], [4, 'a'], [4, 'b'], [4, 'c'], [4, 'd'], [4, 'e'], [5, 'a'], [5, 'b'], [5, 'c'], [5, 'd'], [5, 'e']]\n",
      "[5, 6, 4, 7]\n"
     ]
    }
   ],
   "source": [
    "#without comprehension\n",
    "lst=[]\n",
    "for x in range(10):\n",
    "    lst.append(x**2)\n",
    "\n",
    "print(lst)\n",
    "\n",
    "\n",
    "#with comprehension  imp \n",
    "\n",
    "lst=[x**2 for x in range(10)]\n",
    "print(lst)\n",
    "print([x**2 for x in range(10 )])\n",
    "\n",
    "#if condtion\n",
    "\n",
    "print([x**2 for x in range(10) if(x%2==0)])\n",
    "\n",
    "\n",
    "#nested \n",
    "l4=[1,2,3,4,5]\n",
    "l5=['a','b','c','d','e']\n",
    "\n",
    "lst2=[[i,j] for i in l4 for j in l5]\n",
    "print(lst2)\n",
    "\n",
    "\n",
    "# in built\n",
    "\n",
    "words=[\"hello\" ,\"aditya\", \"from\",\"bhavesh\"]\n",
    "lenghts=[len(i) for i in words]\n",
    "print(lenghts)\n",
    "\n",
    "\n"
   ]
  },
  {
   "cell_type": "code",
   "execution_count": null,
   "metadata": {},
   "outputs": [],
   "source": []
  }
 ],
 "metadata": {
  "kernelspec": {
   "display_name": "Python 3",
   "language": "python",
   "name": "python3"
  },
  "language_info": {
   "codemirror_mode": {
    "name": "ipython",
    "version": 3
   },
   "file_extension": ".py",
   "mimetype": "text/x-python",
   "name": "python",
   "nbconvert_exporter": "python",
   "pygments_lexer": "ipython3",
   "version": "3.12.7"
  }
 },
 "nbformat": 4,
 "nbformat_minor": 2
}
